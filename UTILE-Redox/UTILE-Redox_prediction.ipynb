{
 "cells": [
  {
   "cell_type": "code",
   "execution_count": null,
   "metadata": {},
   "outputs": [],
   "source": [
    "from feature_extraction import *\n",
    "from visualization import *\n",
    "from plotting import *\n",
    "from tif_to_stack import *\n",
    "from class_reordering import *\n",
    "from color_masks import *\n",
    "from prediction import *\n",
    "import os"
   ]
  },
  {
   "cell_type": "markdown",
   "metadata": {},
   "source": [
    "# Welcome to the Jupyter Notebook for the utilization of UTILE-Oxy\n",
    "\n",
    "With this notebook, you will be guided through the code and make it possible for you to analyze your VRFB tomographies automatically.\n",
    "\n",
    "This notebook should help you to run the automated segmentation of the cells in your images and afterward to apply the diverse functions to extract the information of interest from your data and visualize the results.\n",
    "\n",
    "Already integrated functions are:\n",
    "\n",
    "- Membrane separation\n",
    "- Density maps for 2D bubble distribution analysis from different planes\n",
    "- Individual bubble shape analysis and plot of the aspects of interest\n",
    "- Membrane blocking bubbles calculation and visualization\n",
    "\n",
    "You can provide your own data and even your own model and be able to employ those functions as well! The dataset employed for model training and the trained model are accessible at Zenodo: https://doi.org/10.5281/zenodo.11547023. \n"
   ]
  },
  {
   "cell_type": "code",
   "execution_count": null,
   "metadata": {},
   "outputs": [],
   "source": [
    "#Give a name to your project\n",
    "\n",
    "case_name = \"example1\"\n",
    "\n",
    "#First, we need to specify the folder where the tomograph slices (or tif stack) are stored\n",
    "\n",
    "image_path= \"./path/to/image.tif\"\n",
    "\n",
    "#Secondly, we need to specify where is your model stored (.hdf5)\n",
    "\n",
    "model_path = \"./path/to/model.hdf5\"\n",
    "\n",
    "#It is also required to create a folder to store the predicted masks\n",
    "\n",
    "os.makedirs(f\"./{case_name}/mask_folder\", exist_ok=True)\n",
    "mask_folder = f\"./{case_name}/mask_folder/\""
   ]
  },
  {
   "cell_type": "code",
   "execution_count": null,
   "metadata": {},
   "outputs": [],
   "source": [
    "#Then we call the function prediction in order to predict the classes in all images and store the masks in a separate folder\n",
    "\n",
    "if os.path.isfile(image_path):\n",
    "    save_tif_stack_as_individual_images(image_path, case_name)\n",
    "    image_path = f\"./{case_name}/slices\"\n",
    "    prediction(image_path, model_path, mask_folder)\n",
    "else:\n",
    "    prediction(image_path, model_path, mask_folder)\n",
    "\n",
    "#Now we collect all the predicted images into 1 tif stack\n",
    "\n",
    "stack_name = f\"./{case_name}/{case_name}_pred.tif\"   #Name of the stack\n",
    "create_tiff_stack(mask_folder, stack_name)\n"
   ]
  },
  {
   "cell_type": "code",
   "execution_count": null,
   "metadata": {},
   "outputs": [],
   "source": [
    "#We can directly visualize the 2D bubble densities in the three different planes\n",
    "\n",
    "plot_densities(stack_name, case_name)"
   ]
  },
  {
   "cell_type": "code",
   "execution_count": null,
   "metadata": {},
   "outputs": [],
   "source": [
    "# Let's give a look at that segmented volume!\n",
    "\n",
    "volume = tifffile.imread(stack_name) #load the stack\n",
    "\n",
    "#Select if you want to analyse just one electrode or the whole cell\n",
    "\n",
    "left_volume, right_volume = separate_volume(volume)\n",
    "volume_of_interest = right_volume # or right volume or volume for the whole cell\n",
    "\n",
    "#Clean the desired volume\n",
    "\n",
    "cleaned_volume = clean_volume(volume_of_interest)\n",
    "\n",
    "#Visualize the segmentation results in 3D\n",
    "\n",
    "visualize_volume(cleaned_volume,case_name, False) #set True if you want to record a 360° gif of your volume \n"
   ]
  },
  {
   "cell_type": "code",
   "execution_count": null,
   "metadata": {},
   "outputs": [],
   "source": [
    "#Now we can proceed with the analysis of the volume\n",
    "\n",
    "bubble_ratio(cleaned_volume) #This function calculates the bubble voxels, background voxels, and their ratio. The results are then printed.\n"
   ]
  },
  {
   "cell_type": "code",
   "execution_count": null,
   "metadata": {},
   "outputs": [],
   "source": [
    "#Individual shape analysis of the bubbles. Here a further cleaning pipeline is employed. The different bubble analyses are performed and stored in a CSV file for further plotting and visualization\n",
    "\n",
    "filtered_volume, membrane_coords = individual_analysis(cleaned_volume, case_name)\n",
    "csv_file = f\"./{case_name}/output_{case_name}.csv\"\n",
    "\n",
    "#If you have already analysed your volume, you can load the filtered_volume with this function:\n",
    "#filtered_volume = np.load(\"./path/to/your/volume.npy\")\n",
    "\n",
    "#Let's visualize the bubbles with individual colors\n",
    "\n",
    "print(len(np.unique(filtered_volume)- 1))\n",
    "visualize_labeled_volume(filtered_volume, len(np.unique(filtered_volume) - 1), case_name, False)"
   ]
  },
  {
   "cell_type": "code",
   "execution_count": null,
   "metadata": {},
   "outputs": [],
   "source": [
    "#We can also visualize each calculated property and color-map the bubbles according to the measured value\n",
    "#Uncomment the property that you want to visualize\n",
    "\n",
    "csv_file = f\"./{case_name}/output_{case_name}.csv\"\n",
    "\n",
    "visualize_property(\"closest_distance\", filtered_volume, csv_file, case_name,side=\"left\", capture = False) #Under side give left, right or whole depending on which part of the volume you are interested\n",
    "#visualize_property(\"volume\", filtered_volume, csv_file, case_name, side=\"whole\", capture = False)\n",
    "#visualize_property(\"sphericity\", filtered_volume, csv_file,case_name, side=\"whole\", capture = False)\n",
    "#visualize_property(\"orientation\", filtered_volume, csv_file,case_name, side =\"right\", capture = False)\n",
    "#visualize_property(\"elongation\", filtered_volume, csv_file,case_name, side =\"whole\", log=True,capture = False) #Log decides if you want to employ the logarithm of the number to color map the volume (recommended for features that spans over a large range of values)\n",
    "#visualize_property(\"flatness\", filtered_volume, csv_file,case_name, side =\"whole\", log=True, capture = False)"
   ]
  },
  {
   "cell_type": "code",
   "execution_count": null,
   "metadata": {},
   "outputs": [],
   "source": [
    "#We can also plot the histograms and diagrams that are calculated in the csv_file\n",
    "\n",
    "plot_properties(csv_file, case_name)"
   ]
  },
  {
   "cell_type": "code",
   "execution_count": null,
   "metadata": {},
   "outputs": [],
   "source": [
    "#Visualization of and calculation of the membrane-blocking bubbles\n",
    "\n",
    "blocking_voxel = membrane_block_visualization(cleaned_volume, filtered_volume, case_name,capture = False)"
   ]
  },
  {
   "cell_type": "code",
   "execution_count": null,
   "metadata": {},
   "outputs": [],
   "source": []
  }
 ],
 "metadata": {
  "kernelspec": {
   "display_name": "Python 3 (ipykernel)",
   "language": "python",
   "name": "python3"
  },
  "language_info": {
   "codemirror_mode": {
    "name": "ipython",
    "version": 3
   },
   "file_extension": ".py",
   "mimetype": "text/x-python",
   "name": "python",
   "nbconvert_exporter": "python",
   "pygments_lexer": "ipython3",
   "version": "3.10.0"
  }
 },
 "nbformat": 4,
 "nbformat_minor": 4
}
